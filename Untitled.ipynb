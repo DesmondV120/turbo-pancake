{
 "cells": [
  {
   "cell_type": "code",
   "execution_count": 1,
   "id": "47602719",
   "metadata": {
    "scrolled": true
   },
   "outputs": [
    {
     "data": {
      "text/plain": [
       "'Australia'"
      ]
     },
     "execution_count": 1,
     "metadata": {},
     "output_type": "execute_result"
    }
   ],
   "source": [
    "# Capitalizes the first letter\n",
    "str.capitalize('australia')"
   ]
  },
  {
   "cell_type": "code",
   "execution_count": 2,
   "id": "c74de297",
   "metadata": {},
   "outputs": [
    {
     "data": {
      "text/plain": [
       "'germany'"
      ]
     },
     "execution_count": 2,
     "metadata": {},
     "output_type": "execute_result"
    }
   ],
   "source": [
    "# Converts string to lowercase\n",
    "str.lower('Germany')"
   ]
  },
  {
   "cell_type": "code",
   "execution_count": 8,
   "id": "fea200d3",
   "metadata": {},
   "outputs": [
    {
     "data": {
      "text/plain": [
       "'UNITED KINGDOM'"
      ]
     },
     "execution_count": 8,
     "metadata": {},
     "output_type": "execute_result"
    }
   ],
   "source": [
    "# Converts string to uppercase\n",
    "str.upper('united kingdom')"
   ]
  },
  {
   "cell_type": "code",
   "execution_count": null,
   "id": "2329df2b",
   "metadata": {},
   "outputs": [],
   "source": [
    "# Returns the index of 'ten' in 'Liechtenstein'\n",
    "str.find('Liechtenstein', 'ten')"
   ]
  },
  {
   "cell_type": "code",
   "execution_count": null,
   "id": "7a25e1f0",
   "metadata": {},
   "outputs": [],
   "source": [
    "# Capitalizes the first letter of each word in the string\n",
    "'united states'.title()"
   ]
  },
  {
   "cell_type": "code",
   "execution_count": null,
   "id": "4b16fcea",
   "metadata": {},
   "outputs": [],
   "source": [
    "# Removes 'land' from 'Poland'\n",
    "'Poland'.rstrip('land')"
   ]
  },
  {
   "cell_type": "code",
   "execution_count": null,
   "id": "353a72dc",
   "metadata": {},
   "outputs": [],
   "source": [
    "# Removes the leading element 'Papau ' from the string\n",
    "'Papua New Guinea'.lstrip('Papua ')"
   ]
  },
  {
   "cell_type": "code",
   "execution_count": 9,
   "id": "1793f755",
   "metadata": {},
   "outputs": [
    {
     "data": {
      "text/plain": [
       "'Italy is great!'"
      ]
     },
     "execution_count": 9,
     "metadata": {},
     "output_type": "execute_result"
    }
   ],
   "source": [
    "# Replaces 'Japan' with 'Italy'\n",
    "str = 'Japan is great!'\n",
    "str.replace('Japan', 'Italy')"
   ]
  },
  {
   "cell_type": "code",
   "execution_count": null,
   "id": "3501ca4d",
   "metadata": {},
   "outputs": [],
   "source": [
    "# Splits the string by commas into a list.\n",
    "str = 'Thailand,Vietnam,Philippines'\n",
    "str.split(',')"
   ]
  },
  {
   "cell_type": "code",
   "execution_count": 10,
   "id": "1675d507",
   "metadata": {
    "scrolled": true
   },
   "outputs": [
    {
     "data": {
      "text/plain": [
       "'Gree'"
      ]
     },
     "execution_count": 10,
     "metadata": {},
     "output_type": "execute_result"
    }
   ],
   "source": [
    "# Removes the suffix\n",
    "str = 'Greece'\n",
    "str.removesuffix('ce')"
   ]
  },
  {
   "cell_type": "code",
   "execution_count": 11,
   "id": "bb70933a",
   "metadata": {},
   "outputs": [
    {
     "name": "stdout",
     "output_type": "stream",
     "text": [
      "Sum: 18.1\n",
      "Difference: 8.75\n"
     ]
    }
   ],
   "source": [
    "# Ints and floats\n",
    "num_1 = 5                \n",
    "num_2 = 3                \n",
    "num_3 = 10.1             \n",
    "num_4 = 20.75            \n",
    "num_5 = 12               \n",
    "\n",
    "# Sum of num_1, num_2, num_3\n",
    "sum_var = num_1 + num_2 + num_3  \n",
    "print(\"Sum:\", sum_var)           \n",
    "\n",
    "# Difference between num_4 and num_5\n",
    "diff_var = num_4 - num_5          \n",
    "print(\"Difference:\", diff_var)"
   ]
  },
  {
   "cell_type": "code",
   "execution_count": 12,
   "id": "d3b0cdf1",
   "metadata": {},
   "outputs": [
    {
     "name": "stdout",
     "output_type": "stream",
     "text": [
      "Product Result: 232.96\n",
      "Power Result: 16384\n",
      "Square Root Result: 3.22490309931942\n"
     ]
    }
   ],
   "source": [
    "# Import math module\n",
    "import math\n",
    "\n",
    "# Ints and floats\n",
    "num_6 = 4       \n",
    "num_7 = 3.2     \n",
    "num_8 = 10.4    \n",
    "num_9 = 7       \n",
    "num_10 = 0.25   \n",
    "\n",
    "# Product of num_6, num_7, num_8, num_9, num_10\n",
    "product_var = num_6 * num_7 * num_8 * num_9 * num_10  \n",
    "print(\"Product Result:\", product_var)  \n",
    "\n",
    "# num_6 raised to the power of num_9\n",
    "power_var = num_6 ** num_9  \n",
    "print(\"Power Result:\", power_var)  \n",
    "\n",
    "# Square root of num_8\n",
    "sqrt_var = math.sqrt(num_8)  \n",
    "print(\"Square Root Result:\", sqrt_var)  "
   ]
  }
 ],
 "metadata": {
  "kernelspec": {
   "display_name": "Python 3 (ipykernel)",
   "language": "python",
   "name": "python3"
  },
  "language_info": {
   "codemirror_mode": {
    "name": "ipython",
    "version": 3
   },
   "file_extension": ".py",
   "mimetype": "text/x-python",
   "name": "python",
   "nbconvert_exporter": "python",
   "pygments_lexer": "ipython3",
   "version": "3.9.13"
  }
 },
 "nbformat": 4,
 "nbformat_minor": 5
}
